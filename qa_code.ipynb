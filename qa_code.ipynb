{
 "cells": [
  {
   "cell_type": "code",
   "execution_count": 41,
   "id": "b9c4dea8",
   "metadata": {},
   "outputs": [
    {
     "data": {
      "text/plain": [
       "True"
      ]
     },
     "execution_count": 41,
     "metadata": {},
     "output_type": "execute_result"
    }
   ],
   "source": [
    "import pandas as pd \n",
    "import re \n",
    "import os\n",
    "from google import genai\n",
    "from openai import OpenAI\n",
    "from dotenv import load_dotenv \n",
    "load_dotenv()"
   ]
  },
  {
   "cell_type": "markdown",
   "id": "5ab7777a",
   "metadata": {},
   "source": [
    "# Reading the tabular data"
   ]
  },
  {
   "cell_type": "code",
   "execution_count": 13,
   "id": "34c6eceb",
   "metadata": {},
   "outputs": [],
   "source": [
    "doctors=pd.read_excel('doctors.xlsx')"
   ]
  },
  {
   "cell_type": "code",
   "execution_count": 14,
   "id": "a0445985",
   "metadata": {},
   "outputs": [
    {
     "data": {
      "text/html": [
       "<div>\n",
       "<style scoped>\n",
       "    .dataframe tbody tr th:only-of-type {\n",
       "        vertical-align: middle;\n",
       "    }\n",
       "\n",
       "    .dataframe tbody tr th {\n",
       "        vertical-align: top;\n",
       "    }\n",
       "\n",
       "    .dataframe thead th {\n",
       "        text-align: right;\n",
       "    }\n",
       "</style>\n",
       "<table border=\"1\" class=\"dataframe\">\n",
       "  <thead>\n",
       "    <tr style=\"text-align: right;\">\n",
       "      <th></th>\n",
       "      <th>Sl No</th>\n",
       "      <th>Category</th>\n",
       "      <th>Name</th>\n",
       "      <th>Speciality</th>\n",
       "      <th>Hospital</th>\n",
       "    </tr>\n",
       "  </thead>\n",
       "  <tbody>\n",
       "    <tr>\n",
       "      <th>0</th>\n",
       "      <td>1</td>\n",
       "      <td>Doctor</td>\n",
       "      <td>Dr A K Bardhan</td>\n",
       "      <td>Cardiology</td>\n",
       "      <td>Apollo</td>\n",
       "    </tr>\n",
       "    <tr>\n",
       "      <th>1</th>\n",
       "      <td>2</td>\n",
       "      <td>Doctor</td>\n",
       "      <td>Dr Abheek Kar</td>\n",
       "      <td>Pediatritian</td>\n",
       "      <td>Apollo</td>\n",
       "    </tr>\n",
       "    <tr>\n",
       "      <th>2</th>\n",
       "      <td>3</td>\n",
       "      <td>Doctor</td>\n",
       "      <td>Dr Abhijit Taraphder</td>\n",
       "      <td>Orthopedic</td>\n",
       "      <td>Apollo</td>\n",
       "    </tr>\n",
       "    <tr>\n",
       "      <th>3</th>\n",
       "      <td>4</td>\n",
       "      <td>Doctor</td>\n",
       "      <td>Dr Abhik Ghosh</td>\n",
       "      <td>Onkologist</td>\n",
       "      <td>Apollo</td>\n",
       "    </tr>\n",
       "    <tr>\n",
       "      <th>4</th>\n",
       "      <td>5</td>\n",
       "      <td>Doctor</td>\n",
       "      <td>Dr Abrar Ahmed</td>\n",
       "      <td>Gynacologist</td>\n",
       "      <td>Apollo</td>\n",
       "    </tr>\n",
       "  </tbody>\n",
       "</table>\n",
       "</div>"
      ],
      "text/plain": [
       "   Sl No Category                  Name    Speciality Hospital\n",
       "0      1   Doctor        Dr A K Bardhan    Cardiology   Apollo\n",
       "1      2   Doctor         Dr Abheek Kar  Pediatritian   Apollo\n",
       "2      3   Doctor  Dr Abhijit Taraphder    Orthopedic   Apollo\n",
       "3      4   Doctor        Dr Abhik Ghosh    Onkologist   Apollo\n",
       "4      5   Doctor        Dr Abrar Ahmed  Gynacologist   Apollo"
      ]
     },
     "execution_count": 14,
     "metadata": {},
     "output_type": "execute_result"
    }
   ],
   "source": [
    "doctors"
   ]
  },
  {
   "cell_type": "code",
   "execution_count": 15,
   "id": "d6b59452",
   "metadata": {},
   "outputs": [],
   "source": [
    "hospitals=pd.read_excel('hospital.xlsx')"
   ]
  },
  {
   "cell_type": "code",
   "execution_count": 16,
   "id": "9b2892fa",
   "metadata": {},
   "outputs": [
    {
     "data": {
      "text/html": [
       "<div>\n",
       "<style scoped>\n",
       "    .dataframe tbody tr th:only-of-type {\n",
       "        vertical-align: middle;\n",
       "    }\n",
       "\n",
       "    .dataframe tbody tr th {\n",
       "        vertical-align: top;\n",
       "    }\n",
       "\n",
       "    .dataframe thead th {\n",
       "        text-align: right;\n",
       "    }\n",
       "</style>\n",
       "<table border=\"1\" class=\"dataframe\">\n",
       "  <thead>\n",
       "    <tr style=\"text-align: right;\">\n",
       "      <th></th>\n",
       "      <th>Sl No</th>\n",
       "      <th>Category</th>\n",
       "      <th>Name</th>\n",
       "      <th>Location</th>\n",
       "      <th>Best Treatment</th>\n",
       "    </tr>\n",
       "  </thead>\n",
       "  <tbody>\n",
       "    <tr>\n",
       "      <th>0</th>\n",
       "      <td>1</td>\n",
       "      <td>Hospital</td>\n",
       "      <td>Apollo</td>\n",
       "      <td>Kolkata</td>\n",
       "      <td>Orthopedic</td>\n",
       "    </tr>\n",
       "    <tr>\n",
       "      <th>1</th>\n",
       "      <td>2</td>\n",
       "      <td>Hospital</td>\n",
       "      <td>Ilead</td>\n",
       "      <td>Surat</td>\n",
       "      <td>Onkology</td>\n",
       "    </tr>\n",
       "    <tr>\n",
       "      <th>2</th>\n",
       "      <td>3</td>\n",
       "      <td>Hospital</td>\n",
       "      <td>ILS Hospital</td>\n",
       "      <td>Delhi</td>\n",
       "      <td>Gynacology</td>\n",
       "    </tr>\n",
       "    <tr>\n",
       "      <th>3</th>\n",
       "      <td>4</td>\n",
       "      <td>Hospital</td>\n",
       "      <td>R G Kar</td>\n",
       "      <td>Mumbai</td>\n",
       "      <td>Cardiology</td>\n",
       "    </tr>\n",
       "    <tr>\n",
       "      <th>4</th>\n",
       "      <td>5</td>\n",
       "      <td>Hospital</td>\n",
       "      <td>Rabindranath Tagor</td>\n",
       "      <td>Pune</td>\n",
       "      <td>Pediatritian</td>\n",
       "    </tr>\n",
       "  </tbody>\n",
       "</table>\n",
       "</div>"
      ],
      "text/plain": [
       "   Sl No  Category                Name Location Best Treatment\n",
       "0      1  Hospital              Apollo  Kolkata     Orthopedic\n",
       "1      2  Hospital               Ilead    Surat       Onkology\n",
       "2      3  Hospital        ILS Hospital    Delhi     Gynacology\n",
       "3      4  Hospital             R G Kar   Mumbai     Cardiology\n",
       "4      5  Hospital  Rabindranath Tagor     Pune   Pediatritian"
      ]
     },
     "execution_count": 16,
     "metadata": {},
     "output_type": "execute_result"
    }
   ],
   "source": [
    "hospitals"
   ]
  },
  {
   "cell_type": "markdown",
   "id": "a92a5fbd",
   "metadata": {},
   "source": [
    "# Gemini Model"
   ]
  },
  {
   "cell_type": "code",
   "execution_count": 28,
   "id": "70372eb2",
   "metadata": {},
   "outputs": [],
   "source": [
    "def get_answer_from_gemini(prompt):\n",
    "    ''' \n",
    "    function to call gemini api to get answer\n",
    "    '''\n",
    "    gemini_key=os.getenv('GEMINI_API')\n",
    "    client = genai.Client(api_key=gemini_key)\n",
    "    response = client.models.generate_content(\n",
    "    model=\"gemini-2.0-flash\", contents=prompt)\n",
    "    return response.text\n",
    "    "
   ]
  },
  {
   "cell_type": "code",
   "execution_count": 30,
   "id": "5501a2b0",
   "metadata": {},
   "outputs": [],
   "source": [
    "prompt=\"\"\n",
    "with open('gemini_prompt.txt') as f:\n",
    "    prompt=f.read()"
   ]
  },
  {
   "cell_type": "code",
   "execution_count": 31,
   "id": "d970b747",
   "metadata": {},
   "outputs": [],
   "source": [
    "hospitals_dict=hospitals.to_dict(orient='records')\n",
    "doctors_dict=doctors.to_dict(orient='records')"
   ]
  },
  {
   "cell_type": "code",
   "execution_count": 32,
   "id": "c8c52d10",
   "metadata": {},
   "outputs": [],
   "source": [
    "prompt1=f\"\"\"{prompt}\\n HOSPITALS:{hospitals_dict} \\n DOCTORS:{doctors_dict}\"\"\""
   ]
  },
  {
   "cell_type": "code",
   "execution_count": 33,
   "id": "501b26b4",
   "metadata": {},
   "outputs": [],
   "source": [
    "question='Suggest me an onkologist,along with the hospital'"
   ]
  },
  {
   "cell_type": "code",
   "execution_count": 34,
   "id": "1c19492d",
   "metadata": {},
   "outputs": [
    {
     "name": "stdout",
     "output_type": "stream",
     "text": [
      "Dr Abhik Ghosh,Speciality:Onkologist,Hospital:Apollo\n",
      "\n"
     ]
    }
   ],
   "source": [
    "total_prompt=f\"\"\"{prompt1} QUESTION:{question}\"\"\"\n",
    "answer=get_answer_from_gemini(total_prompt)\n",
    "print(answer)"
   ]
  },
  {
   "cell_type": "code",
   "execution_count": 35,
   "id": "c12c5b68",
   "metadata": {},
   "outputs": [
    {
     "name": "stdout",
     "output_type": "stream",
     "text": [
      "I dont know\n",
      "\n"
     ]
    }
   ],
   "source": [
    "question='Who is the president of USA?'\n",
    "total_prompt=f\"\"\"{prompt1} QUESTION:{question}\"\"\"\n",
    "answer=get_answer_from_gemini(total_prompt)\n",
    "print(answer)"
   ]
  },
  {
   "cell_type": "code",
   "execution_count": 36,
   "id": "a167045d",
   "metadata": {},
   "outputs": [
    {
     "name": "stdout",
     "output_type": "stream",
     "text": [
      "Apollo in Kolkata.\n",
      "\n"
     ]
    }
   ],
   "source": [
    "question='Best hospital for ortho?'\n",
    "total_prompt=f\"\"\"{prompt1} QUESTION:{question}\"\"\"\n",
    "answer=get_answer_from_gemini(total_prompt)\n",
    "print(answer)"
   ]
  },
  {
   "cell_type": "code",
   "execution_count": 39,
   "id": "45c30b86",
   "metadata": {},
   "outputs": [
    {
     "name": "stdout",
     "output_type": "stream",
     "text": [
      "The ILS Hospital in Delhi offers the best treatment in Gynacology. Dr Abrar Ahmed is a Gynacologist who practices at Apollo Hospital.\n",
      "\n"
     ]
    }
   ],
   "source": [
    "question='hospital for gyno problems,and a doctor'\n",
    "total_prompt=f\"\"\"{prompt1} QUESTION:{question}\"\"\"\n",
    "answer=get_answer_from_gemini(total_prompt)\n",
    "print(answer)"
   ]
  },
  {
   "cell_type": "code",
   "execution_count": 38,
   "id": "407d221a",
   "metadata": {},
   "outputs": [
    {
     "name": "stdout",
     "output_type": "stream",
     "text": [
      "Dr A K Bardhan, Dr Abheek Kar, Dr Abhijit Taraphder, Dr Abhik Ghosh, and Dr Abrar Ahmed.\n",
      "\n"
     ]
    }
   ],
   "source": [
    "question='doctors available in apollo'\n",
    "total_prompt=f\"\"\"{prompt1} QUESTION:{question}\"\"\"\n",
    "answer=get_answer_from_gemini(total_prompt)\n",
    "print(answer)"
   ]
  },
  {
   "cell_type": "code",
   "execution_count": 42,
   "id": "720e86fa",
   "metadata": {},
   "outputs": [
    {
     "name": "stdout",
     "output_type": "stream",
     "text": [
      "I dont know\n",
      "\n"
     ]
    }
   ],
   "source": [
    "question='what can be done to stop corruption?'\n",
    "total_prompt=f\"\"\"{prompt1} QUESTION:{question}\"\"\"\n",
    "answer=get_answer_from_gemini(total_prompt)\n",
    "print(answer)"
   ]
  },
  {
   "cell_type": "markdown",
   "id": "2c23cb34",
   "metadata": {},
   "source": [
    "# Deepseek"
   ]
  },
  {
   "cell_type": "code",
   "execution_count": 48,
   "id": "60c4e0a6",
   "metadata": {},
   "outputs": [],
   "source": [
    "DEEPSEEK_API=os.getenv('DEEPSEEK_API')"
   ]
  },
  {
   "cell_type": "code",
   "execution_count": 62,
   "id": "8a3d555f",
   "metadata": {},
   "outputs": [],
   "source": [
    "def get_answer_from_deepseek(role,prompt):\n",
    "    client = OpenAI(base_url=\"https://openrouter.ai/api/v1\",api_key=DEEPSEEK_API)\n",
    "    completion = client.chat.completions.create(model=\"deepseek/deepseek-r1:free\",messages=[{\"role\": role,\"content\": prompt}])\n",
    "    return completion.choices[0].message.content"
   ]
  },
  {
   "cell_type": "code",
   "execution_count": 63,
   "id": "3af250e8",
   "metadata": {},
   "outputs": [],
   "source": [
    "deepseek_role=''\n",
    "deepseek_prompt=''\n",
    "with open('deepseek_role.txt') as f:\n",
    "    deepseek_role=f.read()\n",
    "with open('deepseek_prompt.txt') as f:\n",
    "    deepseek_prompt=f.read()"
   ]
  },
  {
   "cell_type": "code",
   "execution_count": 64,
   "id": "63b5d7ac",
   "metadata": {},
   "outputs": [
    {
     "data": {
      "text/plain": [
       "' You are an AI assisted customer assistant for a heathcare clinic that answers customer questions from two tables.\\nThese 2 tables are DOCTORS and HOSPITALS.Your knowledge is limited to these 2 tables only.You have no access to outside information or internet.'"
      ]
     },
     "execution_count": 64,
     "metadata": {},
     "output_type": "execute_result"
    }
   ],
   "source": [
    "deepseek_role"
   ]
  },
  {
   "cell_type": "code",
   "execution_count": 65,
   "id": "b51b1d64",
   "metadata": {},
   "outputs": [],
   "source": [
    "deepseek_prompt1=f\"\"\"{deepseek_prompt}\\n HOSPITALS:{hospitals_dict} \\n DOCTORS:{doctors_dict}\"\"\""
   ]
  },
  {
   "cell_type": "code",
   "execution_count": 66,
   "id": "2e4d5ec6",
   "metadata": {},
   "outputs": [
    {
     "name": "stdout",
     "output_type": "stream",
     "text": [
      "\n"
     ]
    }
   ],
   "source": [
    "question='Give me info about hospital'\n",
    "deepseek_total_prompt=f\"\"\"{deepseek_prompt1} QUESTION:{question}\"\"\"\n",
    "answer=get_answer_from_deepseek(deepseek_role,deepseek_total_prompt)\n",
    "print(answer)"
   ]
  },
  {
   "cell_type": "code",
   "execution_count": 67,
   "id": "0224020a",
   "metadata": {},
   "outputs": [
    {
     "name": "stdout",
     "output_type": "stream",
     "text": [
      "\n"
     ]
    }
   ],
   "source": [
    "question='Suggest me an onkologist,along with the hospital'\n",
    "deepseek_total_prompt=f\"\"\"{deepseek_prompt1} QUESTION:{question}\"\"\"\n",
    "answer=get_answer_from_deepseek(deepseek_role,deepseek_total_prompt)\n",
    "print(answer)"
   ]
  },
  {
   "cell_type": "code",
   "execution_count": 68,
   "id": "d117ccfb",
   "metadata": {},
   "outputs": [
    {
     "name": "stdout",
     "output_type": "stream",
     "text": [
      "To create a lighthouse model using IR and a phototransistor where the lighthouse is stationary and the robot can determine its position by measuring light intensity, we start by understanding that light intensity decreases with the square of the distance from the source. This relationship can be modeled using the inverse square law.\n",
      "\n",
      "### Key Steps:\n",
      "1. **Intensity-Distance Relationship**: The light intensity \\( I \\) measured by the phototransistor is inversely proportional to the square of the distance \\( d \\) from the lighthouse. This is expressed as:\n",
      "   \\[\n",
      "   I = \\frac{k}{d^2}\n",
      "   \\]\n",
      "   where \\( k \\) is a constant that includes factors like the power of the IR source and environmental conditions.\n",
      "\n",
      "2. **Distance Calculation**: The robot can calculate its distance from the lighthouse using the measured intensity \\( I \\) and solving for \\( d \\):\n",
      "   \\[\n",
      "   d = \\sqrt{\\frac{k}{I}}\n",
      "   \\]\n",
      "\n",
      "3. **Position Determination**: Knowing the distance \\( d \\) from the lighthouse (which is at a known position), the robot lies on a circle of radius \\( d \\) centered at the lighthouse. If the robot has additional information such as direction (e.g., from a directional sensor or multiple measurements), it can triangulate its exact position. However, with a single lighthouse, the primary determination is the distance, which constrains the position to a circle.\n",
      "\n",
      "### Final Answer\n",
      "The lighthouse model can be represented by the equation where light intensity \\( I \\) decreases with the square of the distance \\( d \\) from the lighthouse: \\boxed{I = \\frac{k}{d^2}}. Here, \\( k \\) is a constant determined by the IR source's power and environmental factors, allowing the robot to calculate its distance \\( d = \\sqrt{\\frac{k}{I}} \\) and determine its position relative to the lighthouse.\n"
     ]
    }
   ],
   "source": [
    "question='doctors available in apollo'\n",
    "deepseek_total_prompt=f\"\"\"{deepseek_prompt1} QUESTION:{question}\"\"\"\n",
    "answer=get_answer_from_deepseek(deepseek_role,deepseek_total_prompt)\n",
    "print(answer)"
   ]
  },
  {
   "cell_type": "code",
   "execution_count": null,
   "id": "e46ee051",
   "metadata": {},
   "outputs": [],
   "source": []
  }
 ],
 "metadata": {
  "kernelspec": {
   "display_name": "Python 3 (ipykernel)",
   "language": "python",
   "name": "python3"
  },
  "language_info": {
   "codemirror_mode": {
    "name": "ipython",
    "version": 3
   },
   "file_extension": ".py",
   "mimetype": "text/x-python",
   "name": "python",
   "nbconvert_exporter": "python",
   "pygments_lexer": "ipython3",
   "version": "3.10.9"
  }
 },
 "nbformat": 4,
 "nbformat_minor": 5
}
